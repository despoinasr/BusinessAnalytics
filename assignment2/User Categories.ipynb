{
 "cells": [
  {
   "cell_type": "markdown",
   "metadata": {},
   "source": [
    "# User Categories\n",
    "\n",
    "Categoriasation of users according to the categories of the points of interest they visit."
   ]
  },
  {
   "cell_type": "code",
   "execution_count": 1,
   "metadata": {},
   "outputs": [],
   "source": [
    "import pandas as pd\n",
    "import datetime"
   ]
  },
  {
   "cell_type": "markdown",
   "metadata": {},
   "source": [
    "### Data"
   ]
  },
  {
   "cell_type": "code",
   "execution_count": 2,
   "metadata": {},
   "outputs": [],
   "source": [
    "walkins = pd.read_csv('Aueb Dmst Assignment Data\\walkins.csv', dtype = str)\n",
    "users = pd.read_csv('Aueb Dmst Assignment Data\\\\users.csv', dtype = str)\n",
    "pois = pd.read_csv('Aueb Dmst Assignment Data\\pois.csv', dtype = str)\n",
    "categories = pd.read_csv('Aueb Dmst Assignment Data\\categories.csv', dtype = str)\n",
    "points = pd.read_csv('Aueb Dmst Assignment Data\\\\users.csv', dtype = str)"
   ]
  },
  {
   "cell_type": "code",
   "execution_count": 3,
   "metadata": {},
   "outputs": [],
   "source": [
    "categories.rename(columns = {'id': 'category_id', 'title': 'category'}, inplace = True)\n",
    "pois.rename(columns = {'id': 'poi_id'}, inplace = True)\n",
    "pois_categories = pd.merge(pois[['poi_id', 'category_id', 'title']],\n",
    "                           categories,\n",
    "                           how = 'left',\n",
    "                           on = 'category_id')"
   ]
  },
  {
   "cell_type": "markdown",
   "metadata": {},
   "source": [
    "### User Categorisation"
   ]
  },
  {
   "cell_type": "code",
   "execution_count": 4,
   "metadata": {},
   "outputs": [],
   "source": [
    "visits = pd.merge(walkins[['created', 'poi_id', 'user_id']],\n",
    "                  pois_categories[['poi_id', 'category_id', 'category']],\n",
    "                  how = 'left',\n",
    "                  on = 'poi_id')\n",
    "visits = visits[['created', 'user_id', 'category']]"
   ]
  },
  {
   "cell_type": "code",
   "execution_count": 5,
   "metadata": {},
   "outputs": [],
   "source": [
    "users = visits.groupby(by=['user_id', 'category']).count().reset_index()\n",
    "users.rename(columns = {'created': 'visits'}, inplace = True)"
   ]
  },
  {
   "cell_type": "markdown",
   "metadata": {},
   "source": [
    "#### Woman\n",
    "\n",
    "Users belong to this category if they fulfill at least one of the following:\n",
    "* Visits in Beauty Stores > 2\n",
    "* Visits in Women's Stores > 2"
   ]
  },
  {
   "cell_type": "code",
   "execution_count": 6,
   "metadata": {},
   "outputs": [],
   "source": [
    "users['Woman'] = ((users['category'] == 'Women\\'s Store') & (users['visits'] > 2)) | ((users['category'] == 'Beauty Store') & (users['visits'] > 2))\n"
   ]
  },
  {
   "cell_type": "markdown",
   "metadata": {},
   "source": [
    "#### Parent\n",
    "\n",
    "Users belong to this category if they fulfill at least one of the following:\n",
    "* Visits in Playgrounds > 1\n",
    "* Visits in Kids Stores > 2"
   ]
  },
  {
   "cell_type": "code",
   "execution_count": 7,
   "metadata": {},
   "outputs": [],
   "source": [
    "users['Parent'] = ((users['category'] == 'Playground') & (users['visits'] > 3)) | ((users['category'] == 'Kids Store') & (users['visits'] > 2))"
   ]
  },
  {
   "cell_type": "markdown",
   "metadata": {},
   "source": [
    "#### Pet Owner\n",
    "\n",
    "Users belong to this category if they fulfill at least one of the following:\n",
    "* Visits in Pet Stores > 2"
   ]
  },
  {
   "cell_type": "code",
   "execution_count": 8,
   "metadata": {},
   "outputs": [],
   "source": [
    "users['Pet Owner'] = ((users['category'] == 'Pet Store') & (users['visits'] > 2))"
   ]
  },
  {
   "cell_type": "markdown",
   "metadata": {},
   "source": [
    "#### Gamer\n",
    "\n",
    "Users belong to this category if they fulfill at least one of the following:\n",
    "* Visits in Gaming Cafes > 1"
   ]
  },
  {
   "cell_type": "code",
   "execution_count": 9,
   "metadata": {},
   "outputs": [],
   "source": [
    "users['Gamer'] = ((users['category'] == 'Gaming Cafe') & (users['visits'] > 1))"
   ]
  },
  {
   "cell_type": "markdown",
   "metadata": {},
   "source": [
    "#### Student\n",
    "\n",
    "Users belong to this category if they fulfill at least one of the following:\n",
    "* Visits in University > 1"
   ]
  },
  {
   "cell_type": "code",
   "execution_count": 10,
   "metadata": {},
   "outputs": [],
   "source": [
    "users['Student'] = ((users['category'] == 'University') & (users['visits'] > 1))"
   ]
  },
  {
   "cell_type": "markdown",
   "metadata": {},
   "source": [
    "#### Athletic\n",
    "\n",
    "Users belong to this category if they fulfill at least one of the following:\n",
    "* Visits in Gyms > 3"
   ]
  },
  {
   "cell_type": "code",
   "execution_count": 11,
   "metadata": {},
   "outputs": [],
   "source": [
    "users['Athletic'] = ((users['category'] == 'Gym') & (users['visits'] > 3))"
   ]
  },
  {
   "cell_type": "markdown",
   "metadata": {},
   "source": [
    "#### Foodie\n",
    "\n",
    "Categoies of Points of Interest that fall into this category: Souvlaki, Taverna, Steakhouse, Italian, Restaurant, Ethnic, Burgers, Sandwich Place\n",
    "\n",
    "Users belong to this category if they fulfill at least one of the following:\n",
    "* Variety of categories visited > 3"
   ]
  },
  {
   "cell_type": "code",
   "execution_count": 12,
   "metadata": {},
   "outputs": [],
   "source": [
    "users_foodie = users[(users['category'] == 'Souvlaki') |\n",
    "                     (users['category'] == 'Taverna') |\n",
    "                     (users['category'] == 'Steakhouse') |\n",
    "                     (users['category'] == 'Italian') |\n",
    "                     (users['category'] == 'Restaurant') |\n",
    "                     (users['category'] == 'Ethnic') |\n",
    "                     (users['category'] == 'Burgers') |\n",
    "                     (users['category'] == 'Sandwich Place')]\n",
    "users_foodie = users_foodie.groupby(by=['user_id']).count().reset_index()"
   ]
  },
  {
   "cell_type": "code",
   "execution_count": 13,
   "metadata": {},
   "outputs": [],
   "source": [
    "users_foodie['variety'] = users_foodie['category'] > 3"
   ]
  },
  {
   "cell_type": "code",
   "execution_count": 14,
   "metadata": {},
   "outputs": [],
   "source": [
    "users = pd.merge(users,\n",
    "                 users_foodie[['user_id', 'variety']],\n",
    "                 on = 'user_id',\n",
    "                 how = 'left')"
   ]
  },
  {
   "cell_type": "code",
   "execution_count": 15,
   "metadata": {},
   "outputs": [],
   "source": [
    "users['Foodie'] = False\n",
    "users['Foodie'] = (users['variety'] == True)"
   ]
  },
  {
   "cell_type": "markdown",
   "metadata": {},
   "source": [
    "#### Shopper\n",
    "\n",
    "* Categoies of Points of Interest that fall into this category: Women's Store, Mobile Phone Shop, Shoe Store, Clothing Store, Beauty Store, Game Store, Electronics Store, Kids Store, Shopping Mall, Home Store\n",
    "\n",
    "Users belong to this category if they fulfill at least one of the following:\n",
    "* Variety of categories visited > 4"
   ]
  },
  {
   "cell_type": "code",
   "execution_count": 16,
   "metadata": {},
   "outputs": [],
   "source": [
    "users_shopper = users[(users['category'] == ' Women\\'s Store') |\n",
    "                      (users['category'] == 'Mobile Phone Shop') |\n",
    "                      (users['category'] == 'Shoe Store') |\n",
    "                      (users['category'] == 'Clothing Store') |\n",
    "                      (users['category'] == 'Beauty Store') |\n",
    "                      (users['category'] == 'Game Store') |\n",
    "                      (users['category'] == 'Electronics Store') | \n",
    "                      (users['category'] == 'Kids Store') |\n",
    "                      (users['category'] == 'Shopping Mall') |\n",
    "                      (users['category'] == 'Home Store')]\n",
    "users_shopper = users_shopper.groupby(by=['user_id']).count().reset_index()"
   ]
  },
  {
   "cell_type": "code",
   "execution_count": 17,
   "metadata": {},
   "outputs": [],
   "source": [
    "users_shopper['variety_2'] = users_shopper['category'] > 4"
   ]
  },
  {
   "cell_type": "code",
   "execution_count": 18,
   "metadata": {},
   "outputs": [],
   "source": [
    "users = pd.merge(users,\n",
    "                 users_shopper[['user_id', 'variety_2']],\n",
    "                 on = 'user_id',\n",
    "                 how = 'left')"
   ]
  },
  {
   "cell_type": "code",
   "execution_count": 19,
   "metadata": {},
   "outputs": [],
   "source": [
    "users['Shopper'] = False\n",
    "users['Shopper'] = (users['variety_2'] == True)"
   ]
  },
  {
   "cell_type": "markdown",
   "metadata": {},
   "source": [
    "#### Final DataFrame"
   ]
  },
  {
   "cell_type": "code",
   "execution_count": 20,
   "metadata": {
    "scrolled": false
   },
   "outputs": [
    {
     "name": "stderr",
     "output_type": "stream",
     "text": [
      "<ipython-input-20-e54053979ae9>:8: SettingWithCopyWarning: \n",
      "A value is trying to be set on a copy of a slice from a DataFrame\n",
      "\n",
      "See the caveats in the documentation: https://pandas.pydata.org/pandas-docs/stable/user_guide/indexing.html#returning-a-view-versus-a-copy\n",
      "  user_categories.drop_duplicates(inplace = True)\n",
      "C:\\Python\\lib\\site-packages\\pandas\\core\\frame.py:4521: SettingWithCopyWarning: \n",
      "A value is trying to be set on a copy of a slice from a DataFrame\n",
      "\n",
      "See the caveats in the documentation: https://pandas.pydata.org/pandas-docs/stable/user_guide/indexing.html#returning-a-view-versus-a-copy\n",
      "  return super().replace(\n"
     ]
    }
   ],
   "source": [
    "no_category = users[(users['Woman'] != True) & (users['Parent'] != True) & (users['Pet Owner'] != True) &\n",
    "                    (users['Gamer'] != True) & (users['Student'] != True) & (users['Athletic'] != True) & \n",
    "                    (users['Foodie'] != True) & (users['Shopper'] != True)]\n",
    "users = users[(users['Woman'] == True) | (users['Parent'] == True) | (users['Pet Owner'] == True) |\n",
    "              (users['Gamer'] == True) | (users['Student'] == True) | (users['Athletic'] == True) | \n",
    "              (users['Foodie'] == True) | (users['Shopper'] == True)]\n",
    "user_categories = users[['user_id', 'Woman', 'Parent', 'Pet Owner', 'Gamer', 'Student', 'Athletic', 'Foodie', 'Shopper']]\n",
    "user_categories.drop_duplicates(inplace = True)\n",
    "user_categories.replace({False: 0, True: 1}, inplace=True)\n",
    "user_categories = user_categories.groupby(by=['user_id']).sum()"
   ]
  },
  {
   "cell_type": "markdown",
   "metadata": {},
   "source": [
    "We only want values 0 and 1, where 0 is false and 1 is true."
   ]
  },
  {
   "cell_type": "code",
   "execution_count": 21,
   "metadata": {},
   "outputs": [
    {
     "data": {
      "text/plain": [
       "array([0, 4, 3, 5, 6, 1], dtype=int64)"
      ]
     },
     "execution_count": 21,
     "metadata": {},
     "output_type": "execute_result"
    }
   ],
   "source": [
    "user_categories.Foodie.unique()"
   ]
  },
  {
   "cell_type": "code",
   "execution_count": 22,
   "metadata": {},
   "outputs": [
    {
     "data": {
      "text/plain": [
       "array([2, 4, 6, 3, 5, 0, 1], dtype=int64)"
      ]
     },
     "execution_count": 22,
     "metadata": {},
     "output_type": "execute_result"
    }
   ],
   "source": [
    "user_categories.Shopper.unique()"
   ]
  },
  {
   "cell_type": "code",
   "execution_count": 23,
   "metadata": {},
   "outputs": [],
   "source": [
    "user_categories['Foodie'] = user_categories['Foodie'].replace([4, 3, 5, 6], 1)\n",
    "user_categories['Shopper'] = user_categories['Shopper'].replace([2, 4, 6, 3, 5], 1)"
   ]
  },
  {
   "cell_type": "code",
   "execution_count": 24,
   "metadata": {},
   "outputs": [
    {
     "data": {
      "text/html": [
       "<div>\n",
       "<style scoped>\n",
       "    .dataframe tbody tr th:only-of-type {\n",
       "        vertical-align: middle;\n",
       "    }\n",
       "\n",
       "    .dataframe tbody tr th {\n",
       "        vertical-align: top;\n",
       "    }\n",
       "\n",
       "    .dataframe thead th {\n",
       "        text-align: right;\n",
       "    }\n",
       "</style>\n",
       "<table border=\"1\" class=\"dataframe\">\n",
       "  <thead>\n",
       "    <tr style=\"text-align: right;\">\n",
       "      <th></th>\n",
       "      <th>Woman</th>\n",
       "      <th>Parent</th>\n",
       "      <th>Pet Owner</th>\n",
       "      <th>Gamer</th>\n",
       "      <th>Student</th>\n",
       "      <th>Athletic</th>\n",
       "      <th>Foodie</th>\n",
       "      <th>Shopper</th>\n",
       "    </tr>\n",
       "    <tr>\n",
       "      <th>user_id</th>\n",
       "      <th></th>\n",
       "      <th></th>\n",
       "      <th></th>\n",
       "      <th></th>\n",
       "      <th></th>\n",
       "      <th></th>\n",
       "      <th></th>\n",
       "      <th></th>\n",
       "    </tr>\n",
       "  </thead>\n",
       "  <tbody>\n",
       "    <tr>\n",
       "      <th>10</th>\n",
       "      <td>0</td>\n",
       "      <td>0</td>\n",
       "      <td>0</td>\n",
       "      <td>0</td>\n",
       "      <td>1</td>\n",
       "      <td>0</td>\n",
       "      <td>0</td>\n",
       "      <td>1</td>\n",
       "    </tr>\n",
       "    <tr>\n",
       "      <th>100</th>\n",
       "      <td>1</td>\n",
       "      <td>0</td>\n",
       "      <td>0</td>\n",
       "      <td>0</td>\n",
       "      <td>1</td>\n",
       "      <td>1</td>\n",
       "      <td>0</td>\n",
       "      <td>1</td>\n",
       "    </tr>\n",
       "    <tr>\n",
       "      <th>101</th>\n",
       "      <td>1</td>\n",
       "      <td>0</td>\n",
       "      <td>0</td>\n",
       "      <td>0</td>\n",
       "      <td>1</td>\n",
       "      <td>1</td>\n",
       "      <td>0</td>\n",
       "      <td>1</td>\n",
       "    </tr>\n",
       "    <tr>\n",
       "      <th>103</th>\n",
       "      <td>1</td>\n",
       "      <td>1</td>\n",
       "      <td>1</td>\n",
       "      <td>0</td>\n",
       "      <td>1</td>\n",
       "      <td>1</td>\n",
       "      <td>0</td>\n",
       "      <td>1</td>\n",
       "    </tr>\n",
       "    <tr>\n",
       "      <th>104</th>\n",
       "      <td>1</td>\n",
       "      <td>0</td>\n",
       "      <td>0</td>\n",
       "      <td>0</td>\n",
       "      <td>1</td>\n",
       "      <td>0</td>\n",
       "      <td>0</td>\n",
       "      <td>1</td>\n",
       "    </tr>\n",
       "    <tr>\n",
       "      <th>105</th>\n",
       "      <td>1</td>\n",
       "      <td>0</td>\n",
       "      <td>1</td>\n",
       "      <td>0</td>\n",
       "      <td>1</td>\n",
       "      <td>0</td>\n",
       "      <td>0</td>\n",
       "      <td>1</td>\n",
       "    </tr>\n",
       "    <tr>\n",
       "      <th>106</th>\n",
       "      <td>1</td>\n",
       "      <td>0</td>\n",
       "      <td>1</td>\n",
       "      <td>0</td>\n",
       "      <td>1</td>\n",
       "      <td>0</td>\n",
       "      <td>1</td>\n",
       "      <td>1</td>\n",
       "    </tr>\n",
       "    <tr>\n",
       "      <th>107</th>\n",
       "      <td>1</td>\n",
       "      <td>0</td>\n",
       "      <td>1</td>\n",
       "      <td>0</td>\n",
       "      <td>1</td>\n",
       "      <td>1</td>\n",
       "      <td>0</td>\n",
       "      <td>1</td>\n",
       "    </tr>\n",
       "    <tr>\n",
       "      <th>108</th>\n",
       "      <td>1</td>\n",
       "      <td>0</td>\n",
       "      <td>0</td>\n",
       "      <td>0</td>\n",
       "      <td>1</td>\n",
       "      <td>1</td>\n",
       "      <td>0</td>\n",
       "      <td>1</td>\n",
       "    </tr>\n",
       "    <tr>\n",
       "      <th>109</th>\n",
       "      <td>1</td>\n",
       "      <td>0</td>\n",
       "      <td>0</td>\n",
       "      <td>0</td>\n",
       "      <td>1</td>\n",
       "      <td>1</td>\n",
       "      <td>0</td>\n",
       "      <td>1</td>\n",
       "    </tr>\n",
       "  </tbody>\n",
       "</table>\n",
       "</div>"
      ],
      "text/plain": [
       "         Woman  Parent  Pet Owner  Gamer  Student  Athletic  Foodie  Shopper\n",
       "user_id                                                                     \n",
       "10           0       0          0      0        1         0       0        1\n",
       "100          1       0          0      0        1         1       0        1\n",
       "101          1       0          0      0        1         1       0        1\n",
       "103          1       1          1      0        1         1       0        1\n",
       "104          1       0          0      0        1         0       0        1\n",
       "105          1       0          1      0        1         0       0        1\n",
       "106          1       0          1      0        1         0       1        1\n",
       "107          1       0          1      0        1         1       0        1\n",
       "108          1       0          0      0        1         1       0        1\n",
       "109          1       0          0      0        1         1       0        1"
      ]
     },
     "execution_count": 24,
     "metadata": {},
     "output_type": "execute_result"
    }
   ],
   "source": [
    "user_categories.head(10)"
   ]
  },
  {
   "cell_type": "markdown",
   "metadata": {},
   "source": [
    "### Amount of users in each User Category"
   ]
  },
  {
   "cell_type": "code",
   "execution_count": 25,
   "metadata": {
    "scrolled": false
   },
   "outputs": [
    {
     "data": {
      "text/html": [
       "<div>\n",
       "<style scoped>\n",
       "    .dataframe tbody tr th:only-of-type {\n",
       "        vertical-align: middle;\n",
       "    }\n",
       "\n",
       "    .dataframe tbody tr th {\n",
       "        vertical-align: top;\n",
       "    }\n",
       "\n",
       "    .dataframe thead th {\n",
       "        text-align: right;\n",
       "    }\n",
       "</style>\n",
       "<table border=\"1\" class=\"dataframe\">\n",
       "  <thead>\n",
       "    <tr style=\"text-align: right;\">\n",
       "      <th></th>\n",
       "      <th>index</th>\n",
       "      <th>0</th>\n",
       "    </tr>\n",
       "  </thead>\n",
       "  <tbody>\n",
       "    <tr>\n",
       "      <th>0</th>\n",
       "      <td>Woman</td>\n",
       "      <td>707</td>\n",
       "    </tr>\n",
       "    <tr>\n",
       "      <th>1</th>\n",
       "      <td>Parent</td>\n",
       "      <td>46</td>\n",
       "    </tr>\n",
       "    <tr>\n",
       "      <th>2</th>\n",
       "      <td>Pet Owner</td>\n",
       "      <td>360</td>\n",
       "    </tr>\n",
       "    <tr>\n",
       "      <th>3</th>\n",
       "      <td>Gamer</td>\n",
       "      <td>27</td>\n",
       "    </tr>\n",
       "    <tr>\n",
       "      <th>4</th>\n",
       "      <td>Student</td>\n",
       "      <td>693</td>\n",
       "    </tr>\n",
       "    <tr>\n",
       "      <th>5</th>\n",
       "      <td>Athletic</td>\n",
       "      <td>346</td>\n",
       "    </tr>\n",
       "    <tr>\n",
       "      <th>6</th>\n",
       "      <td>Foodie</td>\n",
       "      <td>41</td>\n",
       "    </tr>\n",
       "    <tr>\n",
       "      <th>7</th>\n",
       "      <td>Shopper</td>\n",
       "      <td>689</td>\n",
       "    </tr>\n",
       "  </tbody>\n",
       "</table>\n",
       "</div>"
      ],
      "text/plain": [
       "       index    0\n",
       "0      Woman  707\n",
       "1     Parent   46\n",
       "2  Pet Owner  360\n",
       "3      Gamer   27\n",
       "4    Student  693\n",
       "5   Athletic  346\n",
       "6     Foodie   41\n",
       "7    Shopper  689"
      ]
     },
     "execution_count": 25,
     "metadata": {},
     "output_type": "execute_result"
    }
   ],
   "source": [
    "user_categories.sum().reset_index()"
   ]
  },
  {
   "cell_type": "markdown",
   "metadata": {},
   "source": [
    "### Users that do not belong in any of the User Categories"
   ]
  },
  {
   "cell_type": "code",
   "execution_count": 26,
   "metadata": {},
   "outputs": [
    {
     "data": {
      "text/html": [
       "<div>\n",
       "<style scoped>\n",
       "    .dataframe tbody tr th:only-of-type {\n",
       "        vertical-align: middle;\n",
       "    }\n",
       "\n",
       "    .dataframe tbody tr th {\n",
       "        vertical-align: top;\n",
       "    }\n",
       "\n",
       "    .dataframe thead th {\n",
       "        text-align: right;\n",
       "    }\n",
       "</style>\n",
       "<table border=\"1\" class=\"dataframe\">\n",
       "  <thead>\n",
       "    <tr style=\"text-align: right;\">\n",
       "      <th></th>\n",
       "      <th>user_id</th>\n",
       "      <th>category</th>\n",
       "      <th>visits</th>\n",
       "      <th>Woman</th>\n",
       "      <th>Parent</th>\n",
       "      <th>Pet Owner</th>\n",
       "      <th>Gamer</th>\n",
       "      <th>Student</th>\n",
       "      <th>Athletic</th>\n",
       "      <th>variety</th>\n",
       "      <th>Foodie</th>\n",
       "      <th>variety_2</th>\n",
       "      <th>Shopper</th>\n",
       "    </tr>\n",
       "  </thead>\n",
       "  <tbody>\n",
       "    <tr>\n",
       "      <th>46</th>\n",
       "      <td>10037</td>\n",
       "      <td>Supermarket</td>\n",
       "      <td>1</td>\n",
       "      <td>False</td>\n",
       "      <td>False</td>\n",
       "      <td>False</td>\n",
       "      <td>False</td>\n",
       "      <td>False</td>\n",
       "      <td>False</td>\n",
       "      <td>NaN</td>\n",
       "      <td>False</td>\n",
       "      <td>NaN</td>\n",
       "      <td>False</td>\n",
       "    </tr>\n",
       "    <tr>\n",
       "      <th>47</th>\n",
       "      <td>10079</td>\n",
       "      <td>Home Store</td>\n",
       "      <td>1</td>\n",
       "      <td>False</td>\n",
       "      <td>False</td>\n",
       "      <td>False</td>\n",
       "      <td>False</td>\n",
       "      <td>False</td>\n",
       "      <td>False</td>\n",
       "      <td>NaN</td>\n",
       "      <td>False</td>\n",
       "      <td>False</td>\n",
       "      <td>False</td>\n",
       "    </tr>\n",
       "    <tr>\n",
       "      <th>75</th>\n",
       "      <td>10163</td>\n",
       "      <td>Cafe</td>\n",
       "      <td>4</td>\n",
       "      <td>False</td>\n",
       "      <td>False</td>\n",
       "      <td>False</td>\n",
       "      <td>False</td>\n",
       "      <td>False</td>\n",
       "      <td>False</td>\n",
       "      <td>NaN</td>\n",
       "      <td>False</td>\n",
       "      <td>NaN</td>\n",
       "      <td>False</td>\n",
       "    </tr>\n",
       "    <tr>\n",
       "      <th>76</th>\n",
       "      <td>10163</td>\n",
       "      <td>Supermarket</td>\n",
       "      <td>7</td>\n",
       "      <td>False</td>\n",
       "      <td>False</td>\n",
       "      <td>False</td>\n",
       "      <td>False</td>\n",
       "      <td>False</td>\n",
       "      <td>False</td>\n",
       "      <td>NaN</td>\n",
       "      <td>False</td>\n",
       "      <td>NaN</td>\n",
       "      <td>False</td>\n",
       "    </tr>\n",
       "    <tr>\n",
       "      <th>77</th>\n",
       "      <td>10185</td>\n",
       "      <td>Supermarket</td>\n",
       "      <td>1</td>\n",
       "      <td>False</td>\n",
       "      <td>False</td>\n",
       "      <td>False</td>\n",
       "      <td>False</td>\n",
       "      <td>False</td>\n",
       "      <td>False</td>\n",
       "      <td>NaN</td>\n",
       "      <td>False</td>\n",
       "      <td>NaN</td>\n",
       "      <td>False</td>\n",
       "    </tr>\n",
       "  </tbody>\n",
       "</table>\n",
       "</div>"
      ],
      "text/plain": [
       "   user_id     category  visits  Woman  Parent  Pet Owner  Gamer  Student  \\\n",
       "46   10037  Supermarket       1  False   False      False  False    False   \n",
       "47   10079   Home Store       1  False   False      False  False    False   \n",
       "75   10163         Cafe       4  False   False      False  False    False   \n",
       "76   10163  Supermarket       7  False   False      False  False    False   \n",
       "77   10185  Supermarket       1  False   False      False  False    False   \n",
       "\n",
       "    Athletic variety  Foodie variety_2  Shopper  \n",
       "46     False     NaN   False       NaN    False  \n",
       "47     False     NaN   False     False    False  \n",
       "75     False     NaN   False       NaN    False  \n",
       "76     False     NaN   False       NaN    False  \n",
       "77     False     NaN   False       NaN    False  "
      ]
     },
     "execution_count": 26,
     "metadata": {},
     "output_type": "execute_result"
    }
   ],
   "source": [
    "no_category.head(5)"
   ]
  },
  {
   "cell_type": "code",
   "execution_count": 27,
   "metadata": {},
   "outputs": [
    {
     "data": {
      "text/html": [
       "<div>\n",
       "<style scoped>\n",
       "    .dataframe tbody tr th:only-of-type {\n",
       "        vertical-align: middle;\n",
       "    }\n",
       "\n",
       "    .dataframe tbody tr th {\n",
       "        vertical-align: top;\n",
       "    }\n",
       "\n",
       "    .dataframe thead th {\n",
       "        text-align: right;\n",
       "    }\n",
       "</style>\n",
       "<table border=\"1\" class=\"dataframe\">\n",
       "  <thead>\n",
       "    <tr style=\"text-align: right;\">\n",
       "      <th></th>\n",
       "      <th>user_id</th>\n",
       "      <th>visits</th>\n",
       "      <th>Woman</th>\n",
       "      <th>Parent</th>\n",
       "      <th>Pet Owner</th>\n",
       "      <th>Gamer</th>\n",
       "      <th>Student</th>\n",
       "      <th>Athletic</th>\n",
       "      <th>variety</th>\n",
       "      <th>Foodie</th>\n",
       "      <th>variety_2</th>\n",
       "      <th>Shopper</th>\n",
       "    </tr>\n",
       "    <tr>\n",
       "      <th>category</th>\n",
       "      <th></th>\n",
       "      <th></th>\n",
       "      <th></th>\n",
       "      <th></th>\n",
       "      <th></th>\n",
       "      <th></th>\n",
       "      <th></th>\n",
       "      <th></th>\n",
       "      <th></th>\n",
       "      <th></th>\n",
       "      <th></th>\n",
       "      <th></th>\n",
       "    </tr>\n",
       "  </thead>\n",
       "  <tbody>\n",
       "    <tr>\n",
       "      <th>Supermarket</th>\n",
       "      <td>171</td>\n",
       "      <td>171</td>\n",
       "      <td>171</td>\n",
       "      <td>171</td>\n",
       "      <td>171</td>\n",
       "      <td>171</td>\n",
       "      <td>171</td>\n",
       "      <td>171</td>\n",
       "      <td>43</td>\n",
       "      <td>171</td>\n",
       "      <td>68</td>\n",
       "      <td>171</td>\n",
       "    </tr>\n",
       "    <tr>\n",
       "      <th>Park</th>\n",
       "      <td>130</td>\n",
       "      <td>130</td>\n",
       "      <td>130</td>\n",
       "      <td>130</td>\n",
       "      <td>130</td>\n",
       "      <td>130</td>\n",
       "      <td>130</td>\n",
       "      <td>130</td>\n",
       "      <td>23</td>\n",
       "      <td>130</td>\n",
       "      <td>49</td>\n",
       "      <td>130</td>\n",
       "    </tr>\n",
       "    <tr>\n",
       "      <th>Square</th>\n",
       "      <td>115</td>\n",
       "      <td>115</td>\n",
       "      <td>115</td>\n",
       "      <td>115</td>\n",
       "      <td>115</td>\n",
       "      <td>115</td>\n",
       "      <td>115</td>\n",
       "      <td>115</td>\n",
       "      <td>35</td>\n",
       "      <td>115</td>\n",
       "      <td>66</td>\n",
       "      <td>115</td>\n",
       "    </tr>\n",
       "    <tr>\n",
       "      <th>Metro Station</th>\n",
       "      <td>112</td>\n",
       "      <td>112</td>\n",
       "      <td>112</td>\n",
       "      <td>112</td>\n",
       "      <td>112</td>\n",
       "      <td>112</td>\n",
       "      <td>112</td>\n",
       "      <td>112</td>\n",
       "      <td>34</td>\n",
       "      <td>112</td>\n",
       "      <td>64</td>\n",
       "      <td>112</td>\n",
       "    </tr>\n",
       "    <tr>\n",
       "      <th>Cultural Center</th>\n",
       "      <td>108</td>\n",
       "      <td>108</td>\n",
       "      <td>108</td>\n",
       "      <td>108</td>\n",
       "      <td>108</td>\n",
       "      <td>108</td>\n",
       "      <td>108</td>\n",
       "      <td>108</td>\n",
       "      <td>22</td>\n",
       "      <td>108</td>\n",
       "      <td>43</td>\n",
       "      <td>108</td>\n",
       "    </tr>\n",
       "    <tr>\n",
       "      <th>Beach</th>\n",
       "      <td>103</td>\n",
       "      <td>103</td>\n",
       "      <td>103</td>\n",
       "      <td>103</td>\n",
       "      <td>103</td>\n",
       "      <td>103</td>\n",
       "      <td>103</td>\n",
       "      <td>103</td>\n",
       "      <td>19</td>\n",
       "      <td>103</td>\n",
       "      <td>39</td>\n",
       "      <td>103</td>\n",
       "    </tr>\n",
       "    <tr>\n",
       "      <th>Marina</th>\n",
       "      <td>87</td>\n",
       "      <td>87</td>\n",
       "      <td>87</td>\n",
       "      <td>87</td>\n",
       "      <td>87</td>\n",
       "      <td>87</td>\n",
       "      <td>87</td>\n",
       "      <td>87</td>\n",
       "      <td>12</td>\n",
       "      <td>87</td>\n",
       "      <td>24</td>\n",
       "      <td>87</td>\n",
       "    </tr>\n",
       "    <tr>\n",
       "      <th>Cafe</th>\n",
       "      <td>71</td>\n",
       "      <td>71</td>\n",
       "      <td>71</td>\n",
       "      <td>71</td>\n",
       "      <td>71</td>\n",
       "      <td>71</td>\n",
       "      <td>71</td>\n",
       "      <td>71</td>\n",
       "      <td>38</td>\n",
       "      <td>71</td>\n",
       "      <td>51</td>\n",
       "      <td>71</td>\n",
       "    </tr>\n",
       "    <tr>\n",
       "      <th>Landmark</th>\n",
       "      <td>63</td>\n",
       "      <td>63</td>\n",
       "      <td>63</td>\n",
       "      <td>63</td>\n",
       "      <td>63</td>\n",
       "      <td>63</td>\n",
       "      <td>63</td>\n",
       "      <td>63</td>\n",
       "      <td>4</td>\n",
       "      <td>63</td>\n",
       "      <td>23</td>\n",
       "      <td>63</td>\n",
       "    </tr>\n",
       "    <tr>\n",
       "      <th>Bakery</th>\n",
       "      <td>50</td>\n",
       "      <td>50</td>\n",
       "      <td>50</td>\n",
       "      <td>50</td>\n",
       "      <td>50</td>\n",
       "      <td>50</td>\n",
       "      <td>50</td>\n",
       "      <td>50</td>\n",
       "      <td>34</td>\n",
       "      <td>50</td>\n",
       "      <td>44</td>\n",
       "      <td>50</td>\n",
       "    </tr>\n",
       "  </tbody>\n",
       "</table>\n",
       "</div>"
      ],
      "text/plain": [
       "                 user_id  visits  Woman  Parent  Pet Owner  Gamer  Student  \\\n",
       "category                                                                     \n",
       "Supermarket          171     171    171     171        171    171      171   \n",
       "Park                 130     130    130     130        130    130      130   \n",
       "Square               115     115    115     115        115    115      115   \n",
       "Metro Station        112     112    112     112        112    112      112   \n",
       "Cultural Center      108     108    108     108        108    108      108   \n",
       "Beach                103     103    103     103        103    103      103   \n",
       "Marina                87      87     87      87         87     87       87   \n",
       "Cafe                  71      71     71      71         71     71       71   \n",
       "Landmark              63      63     63      63         63     63       63   \n",
       "Bakery                50      50     50      50         50     50       50   \n",
       "\n",
       "                 Athletic  variety  Foodie  variety_2  Shopper  \n",
       "category                                                        \n",
       "Supermarket           171       43     171         68      171  \n",
       "Park                  130       23     130         49      130  \n",
       "Square                115       35     115         66      115  \n",
       "Metro Station         112       34     112         64      112  \n",
       "Cultural Center       108       22     108         43      108  \n",
       "Beach                 103       19     103         39      103  \n",
       "Marina                 87       12      87         24       87  \n",
       "Cafe                   71       38      71         51       71  \n",
       "Landmark               63        4      63         23       63  \n",
       "Bakery                 50       34      50         44       50  "
      ]
     },
     "execution_count": 27,
     "metadata": {},
     "output_type": "execute_result"
    }
   ],
   "source": [
    "no_category.groupby(by = 'category').count().sort_values(by = 'user_id', ascending = False).head(10)"
   ]
  },
  {
   "cell_type": "code",
   "execution_count": 28,
   "metadata": {},
   "outputs": [
    {
     "data": {
      "text/plain": [
       "category\n",
       "1     108\n",
       "7      46\n",
       "2      34\n",
       "4      25\n",
       "5      18\n",
       "6      15\n",
       "3      12\n",
       "10      9\n",
       "13      9\n",
       "8       5\n",
       "9       5\n",
       "22      5\n",
       "15      5\n",
       "18      4\n",
       "17      2\n",
       "21      2\n",
       "12      2\n",
       "14      2\n",
       "11      2\n",
       "16      1\n",
       "20      1\n",
       "23      1\n",
       "dtype: int64"
      ]
     },
     "execution_count": 28,
     "metadata": {},
     "output_type": "execute_result"
    }
   ],
   "source": [
    "no_category.groupby(by = 'user_id').count().sort_values(by = 'category', ascending = False).value_counts('category')"
   ]
  },
  {
   "cell_type": "markdown",
   "metadata": {},
   "source": [
    "**We reach the conclusion that there are no common visits by these users and that is the reason we cannot include them in any of the categories or create any new ones.**"
   ]
  },
  {
   "cell_type": "markdown",
   "metadata": {},
   "source": [
    "### Overlapping categories\n",
    "\n",
    "Checking the number of users of each User Category that, at the same time, belong to other User Categories."
   ]
  },
  {
   "cell_type": "markdown",
   "metadata": {},
   "source": [
    "#### Woman"
   ]
  },
  {
   "cell_type": "code",
   "execution_count": 29,
   "metadata": {},
   "outputs": [
    {
     "data": {
      "text/html": [
       "<div>\n",
       "<style scoped>\n",
       "    .dataframe tbody tr th:only-of-type {\n",
       "        vertical-align: middle;\n",
       "    }\n",
       "\n",
       "    .dataframe tbody tr th {\n",
       "        vertical-align: top;\n",
       "    }\n",
       "\n",
       "    .dataframe thead th {\n",
       "        text-align: right;\n",
       "    }\n",
       "</style>\n",
       "<table border=\"1\" class=\"dataframe\">\n",
       "  <thead>\n",
       "    <tr style=\"text-align: right;\">\n",
       "      <th></th>\n",
       "      <th>index</th>\n",
       "      <th>0</th>\n",
       "    </tr>\n",
       "  </thead>\n",
       "  <tbody>\n",
       "    <tr>\n",
       "      <th>0</th>\n",
       "      <td>Woman</td>\n",
       "      <td>707</td>\n",
       "    </tr>\n",
       "    <tr>\n",
       "      <th>1</th>\n",
       "      <td>Parent</td>\n",
       "      <td>39</td>\n",
       "    </tr>\n",
       "    <tr>\n",
       "      <th>2</th>\n",
       "      <td>Pet Owner</td>\n",
       "      <td>341</td>\n",
       "    </tr>\n",
       "    <tr>\n",
       "      <th>3</th>\n",
       "      <td>Gamer</td>\n",
       "      <td>24</td>\n",
       "    </tr>\n",
       "    <tr>\n",
       "      <th>4</th>\n",
       "      <td>Student</td>\n",
       "      <td>684</td>\n",
       "    </tr>\n",
       "    <tr>\n",
       "      <th>5</th>\n",
       "      <td>Athletic</td>\n",
       "      <td>338</td>\n",
       "    </tr>\n",
       "    <tr>\n",
       "      <th>6</th>\n",
       "      <td>Foodie</td>\n",
       "      <td>40</td>\n",
       "    </tr>\n",
       "    <tr>\n",
       "      <th>7</th>\n",
       "      <td>Shopper</td>\n",
       "      <td>679</td>\n",
       "    </tr>\n",
       "  </tbody>\n",
       "</table>\n",
       "</div>"
      ],
      "text/plain": [
       "       index    0\n",
       "0      Woman  707\n",
       "1     Parent   39\n",
       "2  Pet Owner  341\n",
       "3      Gamer   24\n",
       "4    Student  684\n",
       "5   Athletic  338\n",
       "6     Foodie   40\n",
       "7    Shopper  679"
      ]
     },
     "execution_count": 29,
     "metadata": {},
     "output_type": "execute_result"
    }
   ],
   "source": [
    "user_categories[user_categories['Woman'] == 1].sum().reset_index()"
   ]
  },
  {
   "cell_type": "markdown",
   "metadata": {},
   "source": [
    "#### Parent"
   ]
  },
  {
   "cell_type": "code",
   "execution_count": 30,
   "metadata": {
    "scrolled": true
   },
   "outputs": [
    {
     "data": {
      "text/html": [
       "<div>\n",
       "<style scoped>\n",
       "    .dataframe tbody tr th:only-of-type {\n",
       "        vertical-align: middle;\n",
       "    }\n",
       "\n",
       "    .dataframe tbody tr th {\n",
       "        vertical-align: top;\n",
       "    }\n",
       "\n",
       "    .dataframe thead th {\n",
       "        text-align: right;\n",
       "    }\n",
       "</style>\n",
       "<table border=\"1\" class=\"dataframe\">\n",
       "  <thead>\n",
       "    <tr style=\"text-align: right;\">\n",
       "      <th></th>\n",
       "      <th>index</th>\n",
       "      <th>0</th>\n",
       "    </tr>\n",
       "  </thead>\n",
       "  <tbody>\n",
       "    <tr>\n",
       "      <th>0</th>\n",
       "      <td>Woman</td>\n",
       "      <td>39</td>\n",
       "    </tr>\n",
       "    <tr>\n",
       "      <th>1</th>\n",
       "      <td>Parent</td>\n",
       "      <td>46</td>\n",
       "    </tr>\n",
       "    <tr>\n",
       "      <th>2</th>\n",
       "      <td>Pet Owner</td>\n",
       "      <td>23</td>\n",
       "    </tr>\n",
       "    <tr>\n",
       "      <th>3</th>\n",
       "      <td>Gamer</td>\n",
       "      <td>3</td>\n",
       "    </tr>\n",
       "    <tr>\n",
       "      <th>4</th>\n",
       "      <td>Student</td>\n",
       "      <td>29</td>\n",
       "    </tr>\n",
       "    <tr>\n",
       "      <th>5</th>\n",
       "      <td>Athletic</td>\n",
       "      <td>19</td>\n",
       "    </tr>\n",
       "    <tr>\n",
       "      <th>6</th>\n",
       "      <td>Foodie</td>\n",
       "      <td>2</td>\n",
       "    </tr>\n",
       "    <tr>\n",
       "      <th>7</th>\n",
       "      <td>Shopper</td>\n",
       "      <td>35</td>\n",
       "    </tr>\n",
       "  </tbody>\n",
       "</table>\n",
       "</div>"
      ],
      "text/plain": [
       "       index   0\n",
       "0      Woman  39\n",
       "1     Parent  46\n",
       "2  Pet Owner  23\n",
       "3      Gamer   3\n",
       "4    Student  29\n",
       "5   Athletic  19\n",
       "6     Foodie   2\n",
       "7    Shopper  35"
      ]
     },
     "execution_count": 30,
     "metadata": {},
     "output_type": "execute_result"
    }
   ],
   "source": [
    "user_categories[user_categories['Parent'] == 1].sum().reset_index()"
   ]
  },
  {
   "cell_type": "markdown",
   "metadata": {},
   "source": [
    "#### Pet Owner"
   ]
  },
  {
   "cell_type": "code",
   "execution_count": 31,
   "metadata": {
    "scrolled": true
   },
   "outputs": [
    {
     "data": {
      "text/html": [
       "<div>\n",
       "<style scoped>\n",
       "    .dataframe tbody tr th:only-of-type {\n",
       "        vertical-align: middle;\n",
       "    }\n",
       "\n",
       "    .dataframe tbody tr th {\n",
       "        vertical-align: top;\n",
       "    }\n",
       "\n",
       "    .dataframe thead th {\n",
       "        text-align: right;\n",
       "    }\n",
       "</style>\n",
       "<table border=\"1\" class=\"dataframe\">\n",
       "  <thead>\n",
       "    <tr style=\"text-align: right;\">\n",
       "      <th></th>\n",
       "      <th>index</th>\n",
       "      <th>0</th>\n",
       "    </tr>\n",
       "  </thead>\n",
       "  <tbody>\n",
       "    <tr>\n",
       "      <th>0</th>\n",
       "      <td>Woman</td>\n",
       "      <td>341</td>\n",
       "    </tr>\n",
       "    <tr>\n",
       "      <th>1</th>\n",
       "      <td>Parent</td>\n",
       "      <td>23</td>\n",
       "    </tr>\n",
       "    <tr>\n",
       "      <th>2</th>\n",
       "      <td>Pet Owner</td>\n",
       "      <td>360</td>\n",
       "    </tr>\n",
       "    <tr>\n",
       "      <th>3</th>\n",
       "      <td>Gamer</td>\n",
       "      <td>16</td>\n",
       "    </tr>\n",
       "    <tr>\n",
       "      <th>4</th>\n",
       "      <td>Student</td>\n",
       "      <td>332</td>\n",
       "    </tr>\n",
       "    <tr>\n",
       "      <th>5</th>\n",
       "      <td>Athletic</td>\n",
       "      <td>171</td>\n",
       "    </tr>\n",
       "    <tr>\n",
       "      <th>6</th>\n",
       "      <td>Foodie</td>\n",
       "      <td>20</td>\n",
       "    </tr>\n",
       "    <tr>\n",
       "      <th>7</th>\n",
       "      <td>Shopper</td>\n",
       "      <td>332</td>\n",
       "    </tr>\n",
       "  </tbody>\n",
       "</table>\n",
       "</div>"
      ],
      "text/plain": [
       "       index    0\n",
       "0      Woman  341\n",
       "1     Parent   23\n",
       "2  Pet Owner  360\n",
       "3      Gamer   16\n",
       "4    Student  332\n",
       "5   Athletic  171\n",
       "6     Foodie   20\n",
       "7    Shopper  332"
      ]
     },
     "execution_count": 31,
     "metadata": {},
     "output_type": "execute_result"
    }
   ],
   "source": [
    "user_categories[user_categories['Pet Owner'] == 1].sum().reset_index()"
   ]
  },
  {
   "cell_type": "markdown",
   "metadata": {},
   "source": [
    "#### Gamer"
   ]
  },
  {
   "cell_type": "code",
   "execution_count": 32,
   "metadata": {
    "scrolled": false
   },
   "outputs": [
    {
     "data": {
      "text/html": [
       "<div>\n",
       "<style scoped>\n",
       "    .dataframe tbody tr th:only-of-type {\n",
       "        vertical-align: middle;\n",
       "    }\n",
       "\n",
       "    .dataframe tbody tr th {\n",
       "        vertical-align: top;\n",
       "    }\n",
       "\n",
       "    .dataframe thead th {\n",
       "        text-align: right;\n",
       "    }\n",
       "</style>\n",
       "<table border=\"1\" class=\"dataframe\">\n",
       "  <thead>\n",
       "    <tr style=\"text-align: right;\">\n",
       "      <th></th>\n",
       "      <th>index</th>\n",
       "      <th>0</th>\n",
       "    </tr>\n",
       "  </thead>\n",
       "  <tbody>\n",
       "    <tr>\n",
       "      <th>0</th>\n",
       "      <td>Woman</td>\n",
       "      <td>24</td>\n",
       "    </tr>\n",
       "    <tr>\n",
       "      <th>1</th>\n",
       "      <td>Parent</td>\n",
       "      <td>3</td>\n",
       "    </tr>\n",
       "    <tr>\n",
       "      <th>2</th>\n",
       "      <td>Pet Owner</td>\n",
       "      <td>16</td>\n",
       "    </tr>\n",
       "    <tr>\n",
       "      <th>3</th>\n",
       "      <td>Gamer</td>\n",
       "      <td>27</td>\n",
       "    </tr>\n",
       "    <tr>\n",
       "      <th>4</th>\n",
       "      <td>Student</td>\n",
       "      <td>18</td>\n",
       "    </tr>\n",
       "    <tr>\n",
       "      <th>5</th>\n",
       "      <td>Athletic</td>\n",
       "      <td>17</td>\n",
       "    </tr>\n",
       "    <tr>\n",
       "      <th>6</th>\n",
       "      <td>Foodie</td>\n",
       "      <td>1</td>\n",
       "    </tr>\n",
       "    <tr>\n",
       "      <th>7</th>\n",
       "      <td>Shopper</td>\n",
       "      <td>21</td>\n",
       "    </tr>\n",
       "  </tbody>\n",
       "</table>\n",
       "</div>"
      ],
      "text/plain": [
       "       index   0\n",
       "0      Woman  24\n",
       "1     Parent   3\n",
       "2  Pet Owner  16\n",
       "3      Gamer  27\n",
       "4    Student  18\n",
       "5   Athletic  17\n",
       "6     Foodie   1\n",
       "7    Shopper  21"
      ]
     },
     "execution_count": 32,
     "metadata": {},
     "output_type": "execute_result"
    }
   ],
   "source": [
    "user_categories[user_categories['Gamer'] == 1].sum().reset_index()"
   ]
  },
  {
   "cell_type": "markdown",
   "metadata": {},
   "source": [
    "#### Student"
   ]
  },
  {
   "cell_type": "code",
   "execution_count": 33,
   "metadata": {
    "scrolled": true
   },
   "outputs": [
    {
     "data": {
      "text/html": [
       "<div>\n",
       "<style scoped>\n",
       "    .dataframe tbody tr th:only-of-type {\n",
       "        vertical-align: middle;\n",
       "    }\n",
       "\n",
       "    .dataframe tbody tr th {\n",
       "        vertical-align: top;\n",
       "    }\n",
       "\n",
       "    .dataframe thead th {\n",
       "        text-align: right;\n",
       "    }\n",
       "</style>\n",
       "<table border=\"1\" class=\"dataframe\">\n",
       "  <thead>\n",
       "    <tr style=\"text-align: right;\">\n",
       "      <th></th>\n",
       "      <th>index</th>\n",
       "      <th>0</th>\n",
       "    </tr>\n",
       "  </thead>\n",
       "  <tbody>\n",
       "    <tr>\n",
       "      <th>0</th>\n",
       "      <td>Woman</td>\n",
       "      <td>684</td>\n",
       "    </tr>\n",
       "    <tr>\n",
       "      <th>1</th>\n",
       "      <td>Parent</td>\n",
       "      <td>29</td>\n",
       "    </tr>\n",
       "    <tr>\n",
       "      <th>2</th>\n",
       "      <td>Pet Owner</td>\n",
       "      <td>332</td>\n",
       "    </tr>\n",
       "    <tr>\n",
       "      <th>3</th>\n",
       "      <td>Gamer</td>\n",
       "      <td>18</td>\n",
       "    </tr>\n",
       "    <tr>\n",
       "      <th>4</th>\n",
       "      <td>Student</td>\n",
       "      <td>693</td>\n",
       "    </tr>\n",
       "    <tr>\n",
       "      <th>5</th>\n",
       "      <td>Athletic</td>\n",
       "      <td>331</td>\n",
       "    </tr>\n",
       "    <tr>\n",
       "      <th>6</th>\n",
       "      <td>Foodie</td>\n",
       "      <td>40</td>\n",
       "    </tr>\n",
       "    <tr>\n",
       "      <th>7</th>\n",
       "      <td>Shopper</td>\n",
       "      <td>677</td>\n",
       "    </tr>\n",
       "  </tbody>\n",
       "</table>\n",
       "</div>"
      ],
      "text/plain": [
       "       index    0\n",
       "0      Woman  684\n",
       "1     Parent   29\n",
       "2  Pet Owner  332\n",
       "3      Gamer   18\n",
       "4    Student  693\n",
       "5   Athletic  331\n",
       "6     Foodie   40\n",
       "7    Shopper  677"
      ]
     },
     "execution_count": 33,
     "metadata": {},
     "output_type": "execute_result"
    }
   ],
   "source": [
    "user_categories[user_categories['Student'] == 1].sum().reset_index()"
   ]
  },
  {
   "cell_type": "markdown",
   "metadata": {},
   "source": [
    "#### Athletic"
   ]
  },
  {
   "cell_type": "code",
   "execution_count": 34,
   "metadata": {
    "scrolled": true
   },
   "outputs": [
    {
     "data": {
      "text/html": [
       "<div>\n",
       "<style scoped>\n",
       "    .dataframe tbody tr th:only-of-type {\n",
       "        vertical-align: middle;\n",
       "    }\n",
       "\n",
       "    .dataframe tbody tr th {\n",
       "        vertical-align: top;\n",
       "    }\n",
       "\n",
       "    .dataframe thead th {\n",
       "        text-align: right;\n",
       "    }\n",
       "</style>\n",
       "<table border=\"1\" class=\"dataframe\">\n",
       "  <thead>\n",
       "    <tr style=\"text-align: right;\">\n",
       "      <th></th>\n",
       "      <th>index</th>\n",
       "      <th>0</th>\n",
       "    </tr>\n",
       "  </thead>\n",
       "  <tbody>\n",
       "    <tr>\n",
       "      <th>0</th>\n",
       "      <td>Woman</td>\n",
       "      <td>338</td>\n",
       "    </tr>\n",
       "    <tr>\n",
       "      <th>1</th>\n",
       "      <td>Parent</td>\n",
       "      <td>19</td>\n",
       "    </tr>\n",
       "    <tr>\n",
       "      <th>2</th>\n",
       "      <td>Pet Owner</td>\n",
       "      <td>171</td>\n",
       "    </tr>\n",
       "    <tr>\n",
       "      <th>3</th>\n",
       "      <td>Gamer</td>\n",
       "      <td>17</td>\n",
       "    </tr>\n",
       "    <tr>\n",
       "      <th>4</th>\n",
       "      <td>Student</td>\n",
       "      <td>331</td>\n",
       "    </tr>\n",
       "    <tr>\n",
       "      <th>5</th>\n",
       "      <td>Athletic</td>\n",
       "      <td>346</td>\n",
       "    </tr>\n",
       "    <tr>\n",
       "      <th>6</th>\n",
       "      <td>Foodie</td>\n",
       "      <td>12</td>\n",
       "    </tr>\n",
       "    <tr>\n",
       "      <th>7</th>\n",
       "      <td>Shopper</td>\n",
       "      <td>330</td>\n",
       "    </tr>\n",
       "  </tbody>\n",
       "</table>\n",
       "</div>"
      ],
      "text/plain": [
       "       index    0\n",
       "0      Woman  338\n",
       "1     Parent   19\n",
       "2  Pet Owner  171\n",
       "3      Gamer   17\n",
       "4    Student  331\n",
       "5   Athletic  346\n",
       "6     Foodie   12\n",
       "7    Shopper  330"
      ]
     },
     "execution_count": 34,
     "metadata": {},
     "output_type": "execute_result"
    }
   ],
   "source": [
    "athletic = user_categories[user_categories['Athletic'] == 1]\n",
    "athletic.sum().reset_index()"
   ]
  },
  {
   "cell_type": "markdown",
   "metadata": {},
   "source": [
    "#### Foodie"
   ]
  },
  {
   "cell_type": "code",
   "execution_count": 35,
   "metadata": {
    "scrolled": false
   },
   "outputs": [
    {
     "data": {
      "text/html": [
       "<div>\n",
       "<style scoped>\n",
       "    .dataframe tbody tr th:only-of-type {\n",
       "        vertical-align: middle;\n",
       "    }\n",
       "\n",
       "    .dataframe tbody tr th {\n",
       "        vertical-align: top;\n",
       "    }\n",
       "\n",
       "    .dataframe thead th {\n",
       "        text-align: right;\n",
       "    }\n",
       "</style>\n",
       "<table border=\"1\" class=\"dataframe\">\n",
       "  <thead>\n",
       "    <tr style=\"text-align: right;\">\n",
       "      <th></th>\n",
       "      <th>index</th>\n",
       "      <th>0</th>\n",
       "    </tr>\n",
       "  </thead>\n",
       "  <tbody>\n",
       "    <tr>\n",
       "      <th>0</th>\n",
       "      <td>Woman</td>\n",
       "      <td>40</td>\n",
       "    </tr>\n",
       "    <tr>\n",
       "      <th>1</th>\n",
       "      <td>Parent</td>\n",
       "      <td>2</td>\n",
       "    </tr>\n",
       "    <tr>\n",
       "      <th>2</th>\n",
       "      <td>Pet Owner</td>\n",
       "      <td>20</td>\n",
       "    </tr>\n",
       "    <tr>\n",
       "      <th>3</th>\n",
       "      <td>Gamer</td>\n",
       "      <td>1</td>\n",
       "    </tr>\n",
       "    <tr>\n",
       "      <th>4</th>\n",
       "      <td>Student</td>\n",
       "      <td>40</td>\n",
       "    </tr>\n",
       "    <tr>\n",
       "      <th>5</th>\n",
       "      <td>Athletic</td>\n",
       "      <td>12</td>\n",
       "    </tr>\n",
       "    <tr>\n",
       "      <th>6</th>\n",
       "      <td>Foodie</td>\n",
       "      <td>41</td>\n",
       "    </tr>\n",
       "    <tr>\n",
       "      <th>7</th>\n",
       "      <td>Shopper</td>\n",
       "      <td>38</td>\n",
       "    </tr>\n",
       "  </tbody>\n",
       "</table>\n",
       "</div>"
      ],
      "text/plain": [
       "       index   0\n",
       "0      Woman  40\n",
       "1     Parent   2\n",
       "2  Pet Owner  20\n",
       "3      Gamer   1\n",
       "4    Student  40\n",
       "5   Athletic  12\n",
       "6     Foodie  41\n",
       "7    Shopper  38"
      ]
     },
     "execution_count": 35,
     "metadata": {},
     "output_type": "execute_result"
    }
   ],
   "source": [
    "foodie = user_categories[user_categories['Foodie'] == 1]\n",
    "foodie.sum().reset_index()"
   ]
  },
  {
   "cell_type": "markdown",
   "metadata": {},
   "source": [
    "#### Shopper"
   ]
  },
  {
   "cell_type": "code",
   "execution_count": 36,
   "metadata": {
    "scrolled": true
   },
   "outputs": [
    {
     "data": {
      "text/html": [
       "<div>\n",
       "<style scoped>\n",
       "    .dataframe tbody tr th:only-of-type {\n",
       "        vertical-align: middle;\n",
       "    }\n",
       "\n",
       "    .dataframe tbody tr th {\n",
       "        vertical-align: top;\n",
       "    }\n",
       "\n",
       "    .dataframe thead th {\n",
       "        text-align: right;\n",
       "    }\n",
       "</style>\n",
       "<table border=\"1\" class=\"dataframe\">\n",
       "  <thead>\n",
       "    <tr style=\"text-align: right;\">\n",
       "      <th></th>\n",
       "      <th>index</th>\n",
       "      <th>0</th>\n",
       "    </tr>\n",
       "  </thead>\n",
       "  <tbody>\n",
       "    <tr>\n",
       "      <th>0</th>\n",
       "      <td>Woman</td>\n",
       "      <td>679</td>\n",
       "    </tr>\n",
       "    <tr>\n",
       "      <th>1</th>\n",
       "      <td>Parent</td>\n",
       "      <td>35</td>\n",
       "    </tr>\n",
       "    <tr>\n",
       "      <th>2</th>\n",
       "      <td>Pet Owner</td>\n",
       "      <td>332</td>\n",
       "    </tr>\n",
       "    <tr>\n",
       "      <th>3</th>\n",
       "      <td>Gamer</td>\n",
       "      <td>21</td>\n",
       "    </tr>\n",
       "    <tr>\n",
       "      <th>4</th>\n",
       "      <td>Student</td>\n",
       "      <td>677</td>\n",
       "    </tr>\n",
       "    <tr>\n",
       "      <th>5</th>\n",
       "      <td>Athletic</td>\n",
       "      <td>330</td>\n",
       "    </tr>\n",
       "    <tr>\n",
       "      <th>6</th>\n",
       "      <td>Foodie</td>\n",
       "      <td>38</td>\n",
       "    </tr>\n",
       "    <tr>\n",
       "      <th>7</th>\n",
       "      <td>Shopper</td>\n",
       "      <td>689</td>\n",
       "    </tr>\n",
       "  </tbody>\n",
       "</table>\n",
       "</div>"
      ],
      "text/plain": [
       "       index    0\n",
       "0      Woman  679\n",
       "1     Parent   35\n",
       "2  Pet Owner  332\n",
       "3      Gamer   21\n",
       "4    Student  677\n",
       "5   Athletic  330\n",
       "6     Foodie   38\n",
       "7    Shopper  689"
      ]
     },
     "execution_count": 36,
     "metadata": {},
     "output_type": "execute_result"
    }
   ],
   "source": [
    "shopper = user_categories[user_categories['Shopper'] == 1]\n",
    "shopper.sum().reset_index()"
   ]
  },
  {
   "cell_type": "markdown",
   "metadata": {},
   "source": [
    "### Most common visits for each category"
   ]
  },
  {
   "cell_type": "code",
   "execution_count": 37,
   "metadata": {},
   "outputs": [],
   "source": [
    "women_users=users[\"user_id\"].loc[users[\"Woman\"] == True ]\n",
    "parent_users=users[\"user_id\"].loc[users[\"Parent\"] == True ]\n",
    "petOwner_users=users[\"user_id\"].loc[users[\"Pet Owner\"] == True ]\n",
    "gamer_users=users[\"user_id\"].loc[users[\"Gamer\"] == True ]\n",
    "student_users=users[\"user_id\"].loc[users[\"Student\"] == True ]\n",
    "athletic_users=users[\"user_id\"].loc[users[\"Athletic\"] == True ]\n",
    "variety_users=users[\"user_id\"].loc[users[\"variety\"] == True ]\n",
    "foodie_users=users[\"user_id\"].loc[users[\"Foodie\"] == True ]\n",
    "shopper_users=users[\"user_id\"].loc[users[\"Shopper\"] == True ]"
   ]
  },
  {
   "cell_type": "markdown",
   "metadata": {},
   "source": [
    "Women most common visits:"
   ]
  },
  {
   "cell_type": "code",
   "execution_count": 38,
   "metadata": {},
   "outputs": [
    {
     "data": {
      "text/plain": [
       "Women's Store        709\n",
       "University           685\n",
       "Metro Station        682\n",
       "Cafe                 682\n",
       "Square               682\n",
       "Supermarket          682\n",
       "Clothing Store       681\n",
       "Shopping Mall        679\n",
       "Home Store           678\n",
       "Park                 678\n",
       "Cultural Center      677\n",
       "Electronics Store    672\n",
       "Gym                  671\n",
       "Beach                669\n",
       "Bakery               669\n",
       "Shoe Store           668\n",
       "Pet Store            643\n",
       "Museum               625\n",
       "Ice Cream Shop       571\n",
       "Sandwich Place       539\n",
       "Marina               524\n",
       "Airport              443\n",
       "Convenience Store    428\n",
       "Bar                  428\n",
       "Burgers              401\n",
       "Kids Store           379\n",
       "Restaurant           334\n",
       "General              277\n",
       "Playground           248\n",
       "Cinema               202\n",
       "Open Air Cinema      188\n",
       "Gaming Cafe          161\n",
       "Landmark             141\n",
       "Waffle House         101\n",
       "Taverna               69\n",
       "Pastry Shop           51\n",
       "Souvlaki              49\n",
       "Game Store            45\n",
       "Library               41\n",
       "Pub/Beer              34\n",
       "Office                31\n",
       "Beauty Store          25\n",
       "Drive-in Cinema       23\n",
       "Mobile Phone Shop     17\n",
       "Steakhouse            16\n",
       "Italian               14\n",
       "Ethnic                 8\n",
       "Transportation         8\n",
       "Bank                   5\n",
       "Courier                2\n",
       "Beach Bar              2\n",
       "Parking                1\n",
       "Theater                1\n",
       "Hotel                  1\n",
       "Name: category, dtype: int64"
      ]
     },
     "execution_count": 38,
     "metadata": {},
     "output_type": "execute_result"
    }
   ],
   "source": [
    "wm_ato = pd.Series(women_users)\n",
    "wm_dt = wm_ato.to_frame()\n",
    "wm = pd.merge(wm_dt,users)\n",
    "wm_visits = wm[[\"category\"]]\n",
    "wm_visits[\"category\"].value_counts()"
   ]
  },
  {
   "cell_type": "markdown",
   "metadata": {},
   "source": [
    "Parents most common visits:"
   ]
  },
  {
   "cell_type": "code",
   "execution_count": 39,
   "metadata": {},
   "outputs": [
    {
     "data": {
      "text/plain": [
       "Women's Store        41\n",
       "Pet Store            40\n",
       "Kids Store           40\n",
       "Metro Station        36\n",
       "Supermarket          36\n",
       "Square               36\n",
       "Home Store           36\n",
       "Bakery               36\n",
       "Cafe                 36\n",
       "Clothing Store       36\n",
       "Electronics Store    35\n",
       "Cultural Center      35\n",
       "Shopping Mall        35\n",
       "Gym                  35\n",
       "Museum               33\n",
       "Shoe Store           32\n",
       "Park                 32\n",
       "Beach                31\n",
       "University           30\n",
       "Sandwich Place       26\n",
       "Ice Cream Shop       26\n",
       "Playground           25\n",
       "Bar                  22\n",
       "Marina               22\n",
       "Burgers              20\n",
       "Convenience Store    20\n",
       "Restaurant           20\n",
       "Airport              18\n",
       "General              16\n",
       "Cinema               13\n",
       "Open Air Cinema      13\n",
       "Gaming Cafe           8\n",
       "Landmark              7\n",
       "Waffle House          4\n",
       "Pub/Beer              4\n",
       "Library               3\n",
       "Pastry Shop           3\n",
       "Italian               2\n",
       "Taverna               2\n",
       "Game Store            2\n",
       "Steakhouse            1\n",
       "Bank                  1\n",
       "Drive-in Cinema       1\n",
       "Office                1\n",
       "Souvlaki              1\n",
       "Hotel                 1\n",
       "Parking               1\n",
       "Beauty Store          1\n",
       "Beach Bar             1\n",
       "Courier               1\n",
       "Name: category, dtype: int64"
      ]
     },
     "execution_count": 39,
     "metadata": {},
     "output_type": "execute_result"
    }
   ],
   "source": [
    "prnt_ato = pd.Series(parent_users)\n",
    "prnt_dt = prnt_ato.to_frame()\n",
    "prnt = pd.merge(prnt_dt,users)\n",
    "prnt_visits = prnt[[\"category\"]]\n",
    "prnt_visits[\"category\"].value_counts()"
   ]
  },
  {
   "cell_type": "markdown",
   "metadata": {},
   "source": [
    "Pet Owners most common visits:"
   ]
  },
  {
   "cell_type": "code",
   "execution_count": 40,
   "metadata": {},
   "outputs": [
    {
     "data": {
      "text/plain": [
       "Pet Store            360\n",
       "Women's Store        346\n",
       "Cafe                 333\n",
       "Clothing Store       333\n",
       "Square               333\n",
       "University           333\n",
       "Metro Station        333\n",
       "Supermarket          333\n",
       "Home Store           331\n",
       "Shopping Mall        331\n",
       "Gym                  331\n",
       "Cultural Center      329\n",
       "Park                 329\n",
       "Electronics Store    328\n",
       "Bakery               325\n",
       "Shoe Store           325\n",
       "Beach                322\n",
       "Museum               307\n",
       "Ice Cream Shop       269\n",
       "Marina               267\n",
       "Sandwich Place       262\n",
       "Airport              220\n",
       "Convenience Store    213\n",
       "Burgers              206\n",
       "Bar                  199\n",
       "Kids Store           191\n",
       "Restaurant           165\n",
       "General              132\n",
       "Playground           131\n",
       "Open Air Cinema       97\n",
       "Cinema                91\n",
       "Gaming Cafe           72\n",
       "Landmark              69\n",
       "Waffle House          53\n",
       "Taverna               34\n",
       "Pastry Shop           25\n",
       "Souvlaki              24\n",
       "Library               22\n",
       "Office                21\n",
       "Game Store            20\n",
       "Pub/Beer              17\n",
       "Beauty Store          17\n",
       "Drive-in Cinema       11\n",
       "Italian                9\n",
       "Mobile Phone Shop      9\n",
       "Steakhouse             7\n",
       "Transportation         5\n",
       "Ethnic                 4\n",
       "Bank                   3\n",
       "Beach Bar              2\n",
       "Hotel                  1\n",
       "Courier                1\n",
       "Parking                1\n",
       "Theater                1\n",
       "Name: category, dtype: int64"
      ]
     },
     "execution_count": 40,
     "metadata": {},
     "output_type": "execute_result"
    }
   ],
   "source": [
    "pet_ato = pd.Series(petOwner_users)\n",
    "pet_dt = pet_ato.to_frame()\n",
    "pet_owners = pd.merge(pet_dt,users)\n",
    "pet_owners = pet_owners[[\"category\"]]\n",
    "pet_owners[\"category\"].value_counts()"
   ]
  },
  {
   "cell_type": "markdown",
   "metadata": {},
   "source": [
    "Gamers most common visits:"
   ]
  },
  {
   "cell_type": "code",
   "execution_count": 41,
   "metadata": {},
   "outputs": [
    {
     "data": {
      "text/plain": [
       "Gaming Cafe          27\n",
       "Gym                  25\n",
       "Women's Store        24\n",
       "Pet Store            24\n",
       "Metro Station        22\n",
       "Supermarket          22\n",
       "Square               22\n",
       "Electronics Store    22\n",
       "Home Store           22\n",
       "Bakery               22\n",
       "Cafe                 22\n",
       "Cultural Center      21\n",
       "Shoe Store           21\n",
       "Clothing Store       21\n",
       "Shopping Mall        20\n",
       "Museum               19\n",
       "Beach                19\n",
       "Park                 19\n",
       "University           18\n",
       "Convenience Store    17\n",
       "Sandwich Place       17\n",
       "Ice Cream Shop       16\n",
       "Marina               16\n",
       "Burgers              12\n",
       "Kids Store           11\n",
       "Restaurant           11\n",
       "Playground           10\n",
       "Airport               9\n",
       "General               7\n",
       "Bar                   7\n",
       "Open Air Cinema       7\n",
       "Waffle House          6\n",
       "Cinema                5\n",
       "Pub/Beer              3\n",
       "Landmark              3\n",
       "Game Store            2\n",
       "Pastry Shop           2\n",
       "Bank                  1\n",
       "Office                1\n",
       "Library               1\n",
       "Beauty Store          1\n",
       "Steakhouse            1\n",
       "Courier               1\n",
       "Drive-in Cinema       1\n",
       "Italian               1\n",
       "Name: category, dtype: int64"
      ]
     },
     "execution_count": 41,
     "metadata": {},
     "output_type": "execute_result"
    }
   ],
   "source": [
    "gamer_ato = pd.Series(gamer_users)\n",
    "gamer_dt = gamer_ato.to_frame()\n",
    "gamers = pd.merge(gamer_dt,users)\n",
    "gamers_visits = gamers[[\"category\"]]\n",
    "gamers_visits[\"category\"].value_counts()"
   ]
  },
  {
   "cell_type": "markdown",
   "metadata": {},
   "source": [
    "Students most common visits:"
   ]
  },
  {
   "cell_type": "code",
   "execution_count": 42,
   "metadata": {},
   "outputs": [
    {
     "data": {
      "text/plain": [
       "University           693\n",
       "Women's Store        691\n",
       "Shopping Mall        679\n",
       "Metro Station        679\n",
       "Park                 679\n",
       "Cafe                 679\n",
       "Supermarket          679\n",
       "Square               679\n",
       "Clothing Store       678\n",
       "Cultural Center      677\n",
       "Home Store           676\n",
       "Beach                673\n",
       "Electronics Store    669\n",
       "Gym                  666\n",
       "Shoe Store           665\n",
       "Bakery               665\n",
       "Pet Store            635\n",
       "Museum               626\n",
       "Ice Cream Shop       575\n",
       "Sandwich Place       534\n",
       "Marina               530\n",
       "Airport              443\n",
       "Bar                  426\n",
       "Convenience Store    422\n",
       "Burgers              395\n",
       "Kids Store           373\n",
       "Restaurant           329\n",
       "General              276\n",
       "Playground           243\n",
       "Cinema               198\n",
       "Open Air Cinema      183\n",
       "Gaming Cafe          156\n",
       "Landmark             139\n",
       "Waffle House         103\n",
       "Taverna               69\n",
       "Souvlaki              49\n",
       "Pastry Shop           48\n",
       "Game Store            43\n",
       "Library               41\n",
       "Pub/Beer              32\n",
       "Office                31\n",
       "Drive-in Cinema       22\n",
       "Beauty Store          21\n",
       "Mobile Phone Shop     17\n",
       "Steakhouse            16\n",
       "Italian               14\n",
       "Transportation         8\n",
       "Ethnic                 8\n",
       "Beach Bar              1\n",
       "Bank                   1\n",
       "Theater                1\n",
       "Name: category, dtype: int64"
      ]
     },
     "execution_count": 42,
     "metadata": {},
     "output_type": "execute_result"
    }
   ],
   "source": [
    "students_ato = pd.Series(student_users)\n",
    "student_dt = students_ato.to_frame()\n",
    "std = pd.merge(student_dt,users)\n",
    "std_visits = std[[\"category\"]]\n",
    "std_visits[\"category\"].value_counts()"
   ]
  },
  {
   "cell_type": "markdown",
   "metadata": {},
   "source": [
    "Athletics most common visits:"
   ]
  },
  {
   "cell_type": "code",
   "execution_count": 43,
   "metadata": {},
   "outputs": [
    {
     "data": {
      "text/plain": [
       "Gym                  346\n",
       "Women's Store        341\n",
       "University           332\n",
       "Clothing Store       331\n",
       "Square               331\n",
       "Cafe                 331\n",
       "Supermarket          331\n",
       "Metro Station        331\n",
       "Shopping Mall        330\n",
       "Park                 329\n",
       "Cultural Center      329\n",
       "Home Store           328\n",
       "Bakery               327\n",
       "Electronics Store    325\n",
       "Shoe Store           325\n",
       "Beach                324\n",
       "Pet Store            315\n",
       "Museum               302\n",
       "Ice Cream Shop       277\n",
       "Marina               256\n",
       "Sandwich Place       250\n",
       "Convenience Store    215\n",
       "Airport              210\n",
       "Bar                  196\n",
       "Burgers              193\n",
       "Kids Store           184\n",
       "Restaurant           153\n",
       "General              136\n",
       "Playground           113\n",
       "Cinema               104\n",
       "Open Air Cinema       92\n",
       "Gaming Cafe           79\n",
       "Landmark              61\n",
       "Waffle House          45\n",
       "Taverna               30\n",
       "Pastry Shop           23\n",
       "Library               22\n",
       "Souvlaki              22\n",
       "Game Store            19\n",
       "Pub/Beer              18\n",
       "Office                15\n",
       "Mobile Phone Shop     15\n",
       "Beauty Store          13\n",
       "Drive-in Cinema       13\n",
       "Steakhouse             8\n",
       "Italian                6\n",
       "Ethnic                 4\n",
       "Transportation         4\n",
       "Beach Bar              2\n",
       "Hotel                  1\n",
       "Parking                1\n",
       "Bank                   1\n",
       "Theater                1\n",
       "Name: category, dtype: int64"
      ]
     },
     "execution_count": 43,
     "metadata": {},
     "output_type": "execute_result"
    }
   ],
   "source": [
    "athl_ato = pd.Series(athletic_users)\n",
    "athl_dt = athl_ato.to_frame()\n",
    "athl = pd.merge(athl_dt,users)\n",
    "athl_visits = athl[[\"category\"]]\n",
    "athl_visits[\"category\"].value_counts()"
   ]
  },
  {
   "cell_type": "markdown",
   "metadata": {},
   "source": [
    "Shopper most common visits:"
   ]
  },
  {
   "cell_type": "code",
   "execution_count": 44,
   "metadata": {},
   "outputs": [
    {
     "data": {
      "text/plain": [
       "Cafe                 18014\n",
       "Supermarket          18014\n",
       "Metro Station        17998\n",
       "Square               17998\n",
       "Clothing Store       17988\n",
       "Women's Store        17976\n",
       "Shopping Mall        17962\n",
       "Park                 17929\n",
       "Cultural Center      17912\n",
       "Home Store           17897\n",
       "Electronics Store    17780\n",
       "University           17770\n",
       "Beach                17718\n",
       "Shoe Store           17672\n",
       "Bakery               17666\n",
       "Gym                  17451\n",
       "Pet Store            16680\n",
       "Museum               16553\n",
       "Ice Cream Shop       15137\n",
       "Sandwich Place       14280\n",
       "Marina               14022\n",
       "Airport              11846\n",
       "Convenience Store    11495\n",
       "Bar                  11450\n",
       "Burgers              10678\n",
       "Kids Store           10145\n",
       "Restaurant            8890\n",
       "General               7537\n",
       "Playground            6640\n",
       "Cinema                5453\n",
       "Open Air Cinema       5046\n",
       "Gaming Cafe           4249\n",
       "Landmark              3880\n",
       "Waffle House          2751\n",
       "Taverna               1885\n",
       "Pastry Shop           1366\n",
       "Souvlaki              1353\n",
       "Game Store            1241\n",
       "Library               1109\n",
       "Pub/Beer               924\n",
       "Office                 869\n",
       "Drive-in Cinema        634\n",
       "Beauty Store           606\n",
       "Mobile Phone Shop      465\n",
       "Steakhouse             435\n",
       "Italian                352\n",
       "Transportation         214\n",
       "Ethnic                 194\n",
       "Bank                    94\n",
       "Beach Bar               60\n",
       "Parking                 31\n",
       "Theater                 29\n",
       "Courier                 27\n",
       "Hotel                   25\n",
       "Name: category, dtype: int64"
      ]
     },
     "execution_count": 44,
     "metadata": {},
     "output_type": "execute_result"
    }
   ],
   "source": [
    "shop_ato = pd.Series(shopper_users)\n",
    "shop_dt = shop_ato.to_frame()\n",
    "shop = pd.merge(shop_dt,users)\n",
    "shop_visits = shop[[\"category\"]]\n",
    "shop_visits[\"category\"].value_counts()"
   ]
  },
  {
   "cell_type": "markdown",
   "metadata": {},
   "source": [
    "Foodie most common visits:"
   ]
  },
  {
   "cell_type": "code",
   "execution_count": 57,
   "metadata": {},
   "outputs": [
    {
     "data": {
      "text/plain": [
       "Sandwich Place       1160\n",
       "Cafe                 1160\n",
       "Supermarket          1160\n",
       "Shopping Mall        1145\n",
       "Clothing Store       1145\n",
       "Square               1145\n",
       "Beach                1145\n",
       "Cultural Center      1145\n",
       "Home Store           1145\n",
       "University           1145\n",
       "Park                 1145\n",
       "Women's Store        1145\n",
       "Metro Station        1145\n",
       "Electronics Store    1135\n",
       "Bakery               1130\n",
       "Pet Store            1117\n",
       "Shoe Store           1091\n",
       "Restaurant           1067\n",
       "Gym                  1062\n",
       "Museum               1057\n",
       "Burgers              1047\n",
       "Marina                975\n",
       "Ice Cream Shop        885\n",
       "Bar                   851\n",
       "Airport               840\n",
       "Convenience Store     747\n",
       "Kids Store            700\n",
       "Taverna               562\n",
       "General               529\n",
       "Landmark              415\n",
       "Souvlaki              398\n",
       "Open Air Cinema       353\n",
       "Playground            348\n",
       "Cinema                323\n",
       "Waffle House          231\n",
       "Italian               208\n",
       "Gaming Cafe           204\n",
       "Steakhouse            192\n",
       "Ethnic                140\n",
       "Pastry Shop           100\n",
       "Drive-in Cinema        87\n",
       "Game Store             62\n",
       "Office                 61\n",
       "Pub/Beer               58\n",
       "Library                58\n",
       "Transportation         30\n",
       "Bank                   29\n",
       "Beach Bar              29\n",
       "Theater                29\n",
       "Pizza Place            15\n",
       "Mobile Phone Shop      15\n",
       "Name: category, dtype: int64"
      ]
     },
     "execution_count": 57,
     "metadata": {},
     "output_type": "execute_result"
    }
   ],
   "source": [
    "fod_ato = pd.Series(foodie_users)\n",
    "fod_dt = fod_ato.to_frame()\n",
    "fod = pd.merge(fod_dt,users)\n",
    "fod_visits = fod[[\"category\"]]\n",
    "fod_visits[\"category\"].value_counts()"
   ]
  },
  {
   "cell_type": "markdown",
   "metadata": {},
   "source": [
    "### Top 3 Days of each category"
   ]
  },
  {
   "cell_type": "code",
   "execution_count": 56,
   "metadata": {},
   "outputs": [
    {
     "data": {
      "text/plain": [
       "Friday       23024\n",
       "Wednesday    22207\n",
       "Thursday     22170\n",
       "Saturday     21992\n",
       "Tuesday      20083\n",
       "Monday       16512\n",
       "Sunday       15197\n",
       "Name: Week_day, dtype: int64"
      ]
     },
     "execution_count": 56,
     "metadata": {},
     "output_type": "execute_result"
    }
   ],
   "source": [
    "topDays=walkins[\"created\"]\n",
    "ato = pd.Series(topDays)\n",
    "dt = ato.to_frame()\n",
    "dt[\"created\"] = pd.to_datetime(dt[\"created\"])\n",
    "dw_mapping = {\n",
    "    0:\"Monday\",\n",
    "    1:\"Tuesday\",\n",
    "    2:\"Wednesday\",\n",
    "    3:\"Thursday\" ,\n",
    "    4:\"Friday\"  ,\n",
    "    5:\"Saturday\",\n",
    "    6:\"Sunday\"\n",
    "}\n",
    "dt[\"Week_day\"] = dt[\"created\"].dt.weekday.map(dw_mapping)\n",
    "dt[\"Week_day\"].value_counts()"
   ]
  },
  {
   "cell_type": "markdown",
   "metadata": {},
   "source": [
    "Women"
   ]
  },
  {
   "cell_type": "code",
   "execution_count": 46,
   "metadata": {},
   "outputs": [
    {
     "data": {
      "text/plain": [
       "Saturday     1216\n",
       "Monday       1099\n",
       "Tuesday       984\n",
       "Wednesday     886\n",
       "Friday        819\n",
       "Thursday      586\n",
       "Sunday        327\n",
       "Name: Week_day, dtype: int64"
      ]
     },
     "execution_count": 46,
     "metadata": {},
     "output_type": "execute_result"
    }
   ],
   "source": [
    "wm_merge= pd.merge(wm_ato,visits)\n",
    "wm_days = wm_merge[\"created\"].loc[(wm_merge[\"category\"] == 'Women\\'s Store') | (wm_merge[\"category\"] ==\"Beauty Store\")]\n",
    "wm_days = pd.Series(wm_days)\n",
    "dt= wm_days.to_frame()\n",
    "dt[\"created\"] = pd.to_datetime(dt[\"created\"])\n",
    "dt[\"Week_day\"] = dt[\"created\"].dt.weekday.map(dw_mapping)\n",
    "dt[\"Week_day\"].value_counts()"
   ]
  },
  {
   "cell_type": "markdown",
   "metadata": {},
   "source": [
    "Parents"
   ]
  },
  {
   "cell_type": "code",
   "execution_count": 47,
   "metadata": {},
   "outputs": [
    {
     "data": {
      "text/plain": [
       "Friday       80\n",
       "Tuesday      54\n",
       "Thursday     43\n",
       "Wednesday    38\n",
       "Sunday       34\n",
       "Saturday     25\n",
       "Monday       25\n",
       "Name: Week_day, dtype: int64"
      ]
     },
     "execution_count": 47,
     "metadata": {},
     "output_type": "execute_result"
    }
   ],
   "source": [
    "prnt_merge= pd.merge(prnt_ato,visits)\n",
    "prnt_days = prnt_merge[\"created\"].loc[(prnt_merge[\"category\"] == 'Playground') | (prnt_merge[\"category\"] ==\"Kids Store\")]\n",
    "wm_days = pd.Series(wm_days)\n",
    "dt= prnt_days.to_frame()\n",
    "dt[\"created\"] = pd.to_datetime(dt[\"created\"])\n",
    "dt[\"Week_day\"] = dt[\"created\"].dt.weekday.map(dw_mapping)\n",
    "dt[\"Week_day\"].value_counts()"
   ]
  },
  {
   "cell_type": "markdown",
   "metadata": {},
   "source": [
    "Pets Owners"
   ]
  },
  {
   "cell_type": "code",
   "execution_count": 50,
   "metadata": {},
   "outputs": [
    {
     "data": {
      "text/plain": [
       "Tuesday      461\n",
       "Friday       452\n",
       "Monday       303\n",
       "Wednesday    289\n",
       "Thursday     277\n",
       "Saturday     255\n",
       "Sunday       250\n",
       "Name: Week_day, dtype: int64"
      ]
     },
     "execution_count": 50,
     "metadata": {},
     "output_type": "execute_result"
    }
   ],
   "source": [
    "pet_merge= pd.merge(pet_ato,visits)\n",
    "pet_days = pet_merge[\"created\"].loc[pet_merge[\"category\"] == 'Pet Store' ]\n",
    "pet_days = pd.Series(pet_days)\n",
    "dt= pet_days.to_frame()\n",
    "dt[\"created\"] = pd.to_datetime(dt[\"created\"])\n",
    "dt[\"Week_day\"] = dt[\"created\"].dt.weekday.map(dw_mapping)\n",
    "dt[\"Week_day\"].value_counts()"
   ]
  },
  {
   "cell_type": "markdown",
   "metadata": {},
   "source": [
    "Gamers"
   ]
  },
  {
   "cell_type": "code",
   "execution_count": 51,
   "metadata": {},
   "outputs": [
    {
     "data": {
      "text/plain": [
       "Thursday     34\n",
       "Saturday     31\n",
       "Friday       31\n",
       "Sunday       19\n",
       "Tuesday      18\n",
       "Wednesday     3\n",
       "Monday        1\n",
       "Name: Week_day, dtype: int64"
      ]
     },
     "execution_count": 51,
     "metadata": {},
     "output_type": "execute_result"
    }
   ],
   "source": [
    "gamer_merge= pd.merge(gamer_ato,visits)\n",
    "gamer_days = gamer_merge[\"created\"].loc[gamer_merge[\"category\"] == 'Gaming Cafe' ]\n",
    "gamer_days = pd.Series(gamer_days)\n",
    "dt= gamer_days.to_frame()\n",
    "dt[\"created\"] = pd.to_datetime(dt[\"created\"])\n",
    "dt[\"Week_day\"] = dt[\"created\"].dt.weekday.map(dw_mapping)\n",
    "dt[\"Week_day\"].value_counts()"
   ]
  },
  {
   "cell_type": "markdown",
   "metadata": {},
   "source": [
    "Student"
   ]
  },
  {
   "cell_type": "code",
   "execution_count": 52,
   "metadata": {},
   "outputs": [
    {
     "data": {
      "text/plain": [
       "Thursday     3194\n",
       "Tuesday      1511\n",
       "Wednesday    1384\n",
       "Saturday      437\n",
       "Monday        359\n",
       "Friday        303\n",
       "Name: Week_day, dtype: int64"
      ]
     },
     "execution_count": 52,
     "metadata": {},
     "output_type": "execute_result"
    }
   ],
   "source": [
    "students_merge= pd.merge(students_ato,visits)\n",
    "students_days = students_merge[\"created\"].loc[students_merge[\"category\"] == 'University' ]\n",
    "students_days = pd.Series(students_days)\n",
    "dt= students_days.to_frame()\n",
    "dt[\"created\"] = pd.to_datetime(dt[\"created\"])\n",
    "dt[\"Week_day\"] = dt[\"created\"].dt.weekday.map(dw_mapping)\n",
    "dt[\"Week_day\"].value_counts()"
   ]
  },
  {
   "cell_type": "markdown",
   "metadata": {},
   "source": [
    "Athletic"
   ]
  },
  {
   "cell_type": "code",
   "execution_count": 53,
   "metadata": {},
   "outputs": [
    {
     "data": {
      "text/plain": [
       "Sunday       389\n",
       "Tuesday      340\n",
       "Thursday     328\n",
       "Saturday     281\n",
       "Friday       272\n",
       "Wednesday    268\n",
       "Monday       177\n",
       "Name: Week_day, dtype: int64"
      ]
     },
     "execution_count": 53,
     "metadata": {},
     "output_type": "execute_result"
    }
   ],
   "source": [
    "athl_merge= pd.merge(athl_ato,visits)\n",
    "athl_days = athl_merge[\"created\"].loc[athl_merge[\"category\"] == 'Gym' ]\n",
    "athl_days = pd.Series(athl_days)\n",
    "dt= athl_days.to_frame()\n",
    "dt[\"created\"] = pd.to_datetime(dt[\"created\"])\n",
    "dt[\"Week_day\"] = dt[\"created\"].dt.weekday.map(dw_mapping)\n",
    "dt[\"Week_day\"].value_counts()"
   ]
  },
  {
   "cell_type": "markdown",
   "metadata": {},
   "source": [
    "Foodie"
   ]
  },
  {
   "cell_type": "code",
   "execution_count": 58,
   "metadata": {},
   "outputs": [
    {
     "data": {
      "text/plain": [
       "Saturday    1572\n",
       "Sunday       997\n",
       "Monday       633\n",
       "Thursday     572\n",
       "Friday       517\n",
       "Tuesday      516\n",
       "Name: Week_day, dtype: int64"
      ]
     },
     "execution_count": 58,
     "metadata": {},
     "output_type": "execute_result"
    }
   ],
   "source": [
    "fod_merge= pd.merge(fod_ato,visits)\n",
    "fod_days = fod_merge[\"created\"].loc[(fod_merge[\"category\"] == 'Souvlaki') | (fod_merge[\"category\"] ==\"Taverna\")\n",
    "                                   | (fod_merge[\"category\"] ==\"Steakhouse\") | (fod_merge[\"category\"] ==\"Italian\")\n",
    "                                   | (fod_merge[\"category\"] ==\"Restaurant\") | (fod_merge[\"category\"] ==\"Ethnic\")\n",
    "                                   | (fod_merge[\"category\"] ==\"Burgers\")]\n",
    "fod_days = pd.Series(fod_days)\n",
    "dt= fod_days.to_frame()\n",
    "dt[\"created\"] = pd.to_datetime(dt[\"created\"])\n",
    "dt[\"Week_day\"] = dt[\"created\"].dt.weekday.map(dw_mapping)\n",
    "dt[\"Week_day\"].value_counts()"
   ]
  },
  {
   "cell_type": "markdown",
   "metadata": {},
   "source": [
    "Shopper"
   ]
  },
  {
   "cell_type": "code",
   "execution_count": 59,
   "metadata": {},
   "outputs": [
    {
     "data": {
      "text/plain": [
       "Friday       1675\n",
       "Tuesday      1640\n",
       "Saturday     1627\n",
       "Wednesday    1598\n",
       "Thursday     1453\n",
       "Sunday       1402\n",
       "Monday       1214\n",
       "Name: Week_day, dtype: int64"
      ]
     },
     "execution_count": 59,
     "metadata": {},
     "output_type": "execute_result"
    }
   ],
   "source": [
    "shop_merge= pd.merge(athl_ato,visits)\n",
    "shop_days = shop_merge[\"created\"].loc[(shop_merge[\"category\"] == 'Women\\'s Store') |\n",
    "                                      (shop_merge[\"category\"] == 'Mobile Phone Shop') |\n",
    "                                      (shop_merge[\"category\"] == 'Shoe Store') |\n",
    "                                      (shop_merge[\"category\"] == 'Clothing Store') |\n",
    "                                      (shop_merge[\"category\"] == 'Beauty Store') |\n",
    "                                      (shop_merge[\"category\"] == 'Game Store') |\n",
    "                                      (shop_merge[\"category\"] == 'Electronics Store') |\n",
    "                                      (shop_merge[\"category\"] == 'Kids Store') |\n",
    "                                      (shop_merge[\"category\"] == 'Shopping Mal') |\n",
    "                                      (shop_merge[\"category\"] == 'Home Store')]\n",
    "shop_days = pd.Series(shop_days)\n",
    "dt= shop_days.to_frame()\n",
    "dt[\"created\"] = pd.to_datetime(dt[\"created\"])\n",
    "dt[\"Week_day\"] = dt[\"created\"].dt.weekday.map(dw_mapping)\n",
    "dt[\"Week_day\"].value_counts()"
   ]
  }
 ],
 "metadata": {
  "kernelspec": {
   "display_name": "Python 3",
   "language": "python",
   "name": "python3"
  },
  "language_info": {
   "codemirror_mode": {
    "name": "ipython",
    "version": 3
   },
   "file_extension": ".py",
   "mimetype": "text/x-python",
   "name": "python",
   "nbconvert_exporter": "python",
   "pygments_lexer": "ipython3",
   "version": "3.8.7"
  }
 },
 "nbformat": 4,
 "nbformat_minor": 4
}
